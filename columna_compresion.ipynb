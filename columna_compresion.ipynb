{
 "cells": [
  {
   "cell_type": "markdown",
   "id": "a3b7390f-a749-447c-b06f-c4b7ec5a287a",
   "metadata": {},
   "source": [
    "## Diseño de Columna W"
   ]
  },
  {
   "cell_type": "markdown",
   "id": "cdffc773-9163-4432-846e-6456593c9ab6",
   "metadata": {},
   "source": [
    "### Datos de entrada (unidades kip y in)"
   ]
  },
  {
   "cell_type": "code",
   "execution_count": 1,
   "id": "31827065-d87e-474c-80de-bd1b0fdca563",
   "metadata": {},
   "outputs": [],
   "source": [
    "L = 3.5/0.3048\n",
    "Fy = 50\n",
    "PD = 60\n",
    "PL = 38\n",
    "fi = 0.9\n",
    "E = 29000\n",
    "G = 0.4*E\n",
    "k = 0.65\n",
    "import numpy as np"
   ]
  },
  {
   "cell_type": "markdown",
   "id": "e5278799-d9b9-41fd-bfbc-affac3957342",
   "metadata": {},
   "source": [
    "### Paso 1: Calcular la máxima carga"
   ]
  },
  {
   "cell_type": "code",
   "execution_count": 2,
   "id": "793ca1bc-4571-4555-a9e5-0b51a66d9fef",
   "metadata": {},
   "outputs": [
    {
     "name": "stdout",
     "output_type": "stream",
     "text": [
      "Pu =  132.8\n"
     ]
    }
   ],
   "source": [
    "Pu1 = 1.4*PD\n",
    "Pu2 = 1.2*PD + 1.6*PL\n",
    "Pu = np.max([Pu1,Pu2])\n",
    "print('Pu = ',Pu)"
   ]
  },
  {
   "cell_type": "markdown",
   "id": "ec435be2-bd24-48fe-8a8c-bc994a67b0b3",
   "metadata": {},
   "source": [
    "### Paso 2: Suponer una esbeltez"
   ]
  },
  {
   "cell_type": "code",
   "execution_count": 3,
   "id": "182b76f6-562a-47aa-b697-b774298c885d",
   "metadata": {},
   "outputs": [],
   "source": [
    "KLr = 50"
   ]
  },
  {
   "cell_type": "markdown",
   "id": "23c59ceb-3e5e-44ab-8fb2-cb722b077aa6",
   "metadata": {},
   "source": [
    "### Paso 3: Calcular el esfuerzo crítico de Euler"
   ]
  },
  {
   "cell_type": "markdown",
   "id": "5069cf32-a53a-4054-8043-38857c509849",
   "metadata": {},
   "source": [
    "#### $F_e$ = $\\frac{\\pi^2 E}{K L r^2}$"
   ]
  },
  {
   "cell_type": "code",
   "execution_count": 4,
   "id": "7b599a80-c21a-4464-b030-957b14f4c896",
   "metadata": {},
   "outputs": [
    {
     "name": "stdout",
     "output_type": "stream",
     "text": [
      "114.48741105263655\n"
     ]
    }
   ],
   "source": [
    "Fe = np.pi**2*E/KLr**2\n",
    "print(Fe)"
   ]
  },
  {
   "cell_type": "markdown",
   "id": "3e86c606-cb9b-4bfe-969c-90eb1ae27cf9",
   "metadata": {},
   "source": [
    "### Paso 4. Verificar el tipo de pandeo que ocurre"
   ]
  },
  {
   "cell_type": "markdown",
   "id": "dfd42201-6606-4e2f-82e8-4cf427165ab6",
   "metadata": {},
   "source": [
    "#### 4.1) Pandeo elástico: K \\* L / r > $\\lambda_{ru}$ "
   ]
  },
  {
   "cell_type": "markdown",
   "id": "9445564e-7c9d-4b0c-a4cd-72c8ef10de0d",
   "metadata": {},
   "source": [
    "#### 4.2) Pandeo Inelástico: K \\* L / r < $\\lambda_{ru}$"
   ]
  },
  {
   "cell_type": "code",
   "execution_count": 5,
   "id": "a1e501d0-b389-4211-ab6b-a4f17c06fd42",
   "metadata": {},
   "outputs": [
    {
     "name": "stdout",
     "output_type": "stream",
     "text": [
      "113.43182093222343\n"
     ]
    }
   ],
   "source": [
    "lambda_ru = 4.71*np.sqrt(E/Fy)\n",
    "print(lambda_ru)"
   ]
  },
  {
   "cell_type": "code",
   "execution_count": 6,
   "id": "9aa3305d-32b8-412d-99fa-6563ec58c31a",
   "metadata": {},
   "outputs": [
    {
     "name": "stdout",
     "output_type": "stream",
     "text": [
      "Pandeo inelástico\n"
     ]
    }
   ],
   "source": [
    "if KLr > lambda_ru:\n",
    "    print('Pandeo elástico')\n",
    "    pandeo = 1\n",
    "else:\n",
    "    print('Pandeo inelástico')\n",
    "    pandeo = 2\n"
   ]
  },
  {
   "cell_type": "markdown",
   "id": "2269e8ca-b8d4-42f8-a3b5-47d0ec69cdda",
   "metadata": {},
   "source": [
    "### Paso 5. Calculo de Fcr"
   ]
  },
  {
   "cell_type": "markdown",
   "id": "066b20df-e717-4946-8f83-49aa14fbc2c7",
   "metadata": {},
   "source": [
    "#### $F_{cr}$ = $0.658^{(F_y/F_e)}{F_y}$     cuando es inelástico\n",
    "#### $F_{cr}$ = $0.877F_e$     cuando es elástico"
   ]
  },
  {
   "cell_type": "code",
   "execution_count": 7,
   "id": "f59599e2-f0a0-4605-813c-78628940d6ba",
   "metadata": {},
   "outputs": [
    {
     "name": "stdout",
     "output_type": "stream",
     "text": [
      "Fcr =  41.647020534269394\n"
     ]
    }
   ],
   "source": [
    "Fcr = 0.658**(Fy/Fe)*Fy\n",
    "print('Fcr = ',Fcr)"
   ]
  },
  {
   "cell_type": "markdown",
   "id": "f8f6d189-5edf-44ca-a824-7204635d536e",
   "metadata": {},
   "source": [
    "### Paso 6. Cálculo del área requerida"
   ]
  },
  {
   "cell_type": "markdown",
   "id": "e1dec8fc-e180-4c46-9c89-0f367599af5a",
   "metadata": {},
   "source": [
    "### $A_{req}$ = $\\frac{P_u}{\\phi  \\cdot F_{cr}}$"
   ]
  },
  {
   "cell_type": "code",
   "execution_count": 8,
   "id": "bf837a33-3e0a-47d3-8636-595a690e4be3",
   "metadata": {},
   "outputs": [
    {
     "name": "stdout",
     "output_type": "stream",
     "text": [
      "El área es:  3.5430038850951884\n"
     ]
    }
   ],
   "source": [
    "Areq = Pu/(fi*Fcr)\n",
    "print('El área es: ',Areq)"
   ]
  },
  {
   "cell_type": "markdown",
   "id": "8fcc6453-b207-439a-9d1c-f437b5d308d8",
   "metadata": {},
   "source": [
    "#### Esto resulta en un perfil por ej. W14x26, que tiene las siguientes propiedades:"
   ]
  },
  {
   "cell_type": "code",
   "execution_count": 9,
   "id": "038f1098-4a0e-4d9d-9f3f-5a275809a9e1",
   "metadata": {},
   "outputs": [],
   "source": [
    "A = 7.69\n",
    "Iy = 8.91\n",
    "Ix = 245\n",
    "ry = 1.08\n",
    "rx = 5.65\n",
    "Cw = 405\n",
    "J = 0.358"
   ]
  },
  {
   "cell_type": "markdown",
   "id": "825e253a-63bc-4a53-91cb-a89ad5acb960",
   "metadata": {},
   "source": [
    "### Paso 7. Cálculo de esbeltez del perfil escogido"
   ]
  },
  {
   "cell_type": "code",
   "execution_count": 10,
   "id": "758ee311-f0a7-4b5d-bf22-4e28c9246521",
   "metadata": {},
   "outputs": [
    {
     "name": "stdout",
     "output_type": "stream",
     "text": [
      "La esbeltez es:  82.93234179060948\n"
     ]
    }
   ],
   "source": [
    "KLr2 = k*L*12/np.min([ry,rx]) # L estaba en ft y se pasa a in\n",
    "print('La esbeltez es: ',KLr2)"
   ]
  },
  {
   "cell_type": "markdown",
   "id": "b77da079-2519-4443-b9a7-605d1f94aefb",
   "metadata": {},
   "source": [
    "### Paso 8. Se repiten los cálculos con el nuevo radio de giro"
   ]
  },
  {
   "cell_type": "code",
   "execution_count": 11,
   "id": "ec6b6a26-0499-4b2b-b8c5-61686348f623",
   "metadata": {},
   "outputs": [
    {
     "name": "stdout",
     "output_type": "stream",
     "text": [
      "Fe es:  41.61499871078772\n",
      "Pandeo inelástico\n",
      "Fcr =  30.239196993443016\n",
      "La carga resistente es:  209.28548239161913\n",
      "El perfil es satisfactorio\n"
     ]
    }
   ],
   "source": [
    "Fe = np.pi**2*E/KLr2**2\n",
    "print('Fe es: ',Fe)\n",
    "\n",
    "if KLr2 > lambda_ru:\n",
    "    print('Pandeo elástico')\n",
    "    pandeo = 1\n",
    "else:\n",
    "    print('Pandeo inelástico')\n",
    "    pandeo = 2\n",
    "\n",
    "Fcr = 0.658**(Fy/Fe)*Fy\n",
    "print('Fcr = ',Fcr)\n",
    "\n",
    "Pres = fi*Fcr*A\n",
    "print('La carga resistente es: ',Pres)\n",
    "\n",
    "if Pres > Pu:\n",
    "    print('El perfil es satisfactorio')\n",
    "else:\n",
    "    print('El perfil no es satisfactorio')"
   ]
  },
  {
   "cell_type": "markdown",
   "id": "f3b1f418-56c8-4f01-89d3-a33f464e5924",
   "metadata": {},
   "source": [
    "### Paso 9. Verificación Flexocompresión"
   ]
  },
  {
   "cell_type": "code",
   "execution_count": 12,
   "id": "779b0b9d-4778-4c0e-893f-6cef23fe259b",
   "metadata": {},
   "outputs": [
    {
     "name": "stdout",
     "output_type": "stream",
     "text": [
      "Fe a flex.compresión:  73.26396097095278\n"
     ]
    }
   ],
   "source": [
    "Fe2 = (np.pi**2*E*Cw/(k*L*12)**2 + G*J)/(Ix+Iy)\n",
    "print('Fe a flex.compresión: ',Fe2)"
   ]
  },
  {
   "cell_type": "code",
   "execution_count": 13,
   "id": "f10c3a01-7c51-4e9c-adbb-f830ddd3d393",
   "metadata": {},
   "outputs": [
    {
     "name": "stdout",
     "output_type": "stream",
     "text": [
      "Fcr =  37.57645102170011\n"
     ]
    }
   ],
   "source": [
    "Fcr2 = 0.658**(Fy/Fe2)*Fy\n",
    "print('Fcr = ',Fcr2)"
   ]
  },
  {
   "cell_type": "code",
   "execution_count": 14,
   "id": "10d65cbc-b9e8-41b8-9e0e-474dd3ba2bbe",
   "metadata": {},
   "outputs": [
    {
     "name": "stdout",
     "output_type": "stream",
     "text": [
      "La carga resistente es:  260.06661752118646\n",
      "El perfil es satisfactorio\n"
     ]
    }
   ],
   "source": [
    "Pres2 = fi*Fcr2*A\n",
    "print('La carga resistente es: ',Pres2)\n",
    "\n",
    "if Pres2 > Pu:\n",
    "    print('El perfil es satisfactorio')\n",
    "else:\n",
    "    print('El perfil no es satisfactorio')"
   ]
  },
  {
   "cell_type": "code",
   "execution_count": null,
   "id": "61a7b8b6-dcde-473e-afc5-31483d8d97c3",
   "metadata": {},
   "outputs": [],
   "source": []
  }
 ],
 "metadata": {
  "kernelspec": {
   "display_name": "Python 3 (ipykernel)",
   "language": "python",
   "name": "python3"
  },
  "language_info": {
   "codemirror_mode": {
    "name": "ipython",
    "version": 3
   },
   "file_extension": ".py",
   "mimetype": "text/x-python",
   "name": "python",
   "nbconvert_exporter": "python",
   "pygments_lexer": "ipython3",
   "version": "3.11.7"
  }
 },
 "nbformat": 4,
 "nbformat_minor": 5
}
