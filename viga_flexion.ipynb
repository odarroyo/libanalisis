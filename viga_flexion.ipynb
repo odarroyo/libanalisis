{
 "cells": [
  {
   "cell_type": "markdown",
   "id": "eb5a75d7-2eb3-4602-8ddd-2d408c4ce262",
   "metadata": {},
   "source": [
    "## Diseño de Viga a flexión"
   ]
  },
  {
   "cell_type": "markdown",
   "id": "49eb5a61-319d-404f-9c59-6c61c737655e",
   "metadata": {},
   "source": [
    "### Datos Iniciales"
   ]
  },
  {
   "cell_type": "code",
   "execution_count": 1,
   "id": "106a86ea-fba7-4d98-840a-9c1a5ff396b0",
   "metadata": {},
   "outputs": [],
   "source": [
    "import numpy as np\n",
    "Mu = 6160 # en kips, equivalente a 71kN-m\n",
    "L = 10/0.3048 # en ft, 10m\n",
    "fi = 0.9\n",
    "Fy = 50\n",
    "E = 29000"
   ]
  },
  {
   "cell_type": "markdown",
   "id": "ee61221d-f868-4428-ae74-2fbc610b8dbf",
   "metadata": {},
   "source": [
    "### Capacidad de la viga"
   ]
  },
  {
   "cell_type": "markdown",
   "id": "ef83a3b0-c322-45dd-a78c-78ca732ef369",
   "metadata": {},
   "source": [
    "#### $M_R$ = $\\phi_b  \\cdot F_y \\cdot Z_X$  si la sección es compacta"
   ]
  },
  {
   "cell_type": "code",
   "execution_count": 2,
   "id": "9bd0e3bc-78e6-43d6-a93b-b28cb47803ff",
   "metadata": {},
   "outputs": [
    {
     "name": "stdout",
     "output_type": "stream",
     "text": [
      "Zx requerido:  136.88888888888889\n"
     ]
    }
   ],
   "source": [
    "Zx = Mu/(fi*Fy)\n",
    "print('Zx requerido: ',Zx)"
   ]
  },
  {
   "cell_type": "markdown",
   "id": "ce57bb95-4b71-48e9-9b5a-f7a419ddb935",
   "metadata": {},
   "source": [
    "### Proponer una sección: W14x82 (compacta)"
   ]
  },
  {
   "cell_type": "code",
   "execution_count": 3,
   "id": "655f6175-2a15-4e02-8e41-8bb225edbbf4",
   "metadata": {},
   "outputs": [
    {
     "name": "stdout",
     "output_type": "stream",
     "text": [
      "limites para patín:  (9.151611879882145, 24.08318915758459)\n",
      "limites para alma:  (90.55279123251806, 137.27417819823216)\n",
      "Esta sección funcionaría porque es compacta\n"
     ]
    }
   ],
   "source": [
    "h_tw = 22.4\n",
    "bf_2tf = 5.92\n",
    "Zx = 139\n",
    "\n",
    "lambda_p_f = 0.38*np.sqrt(E/Fy)\n",
    "lambda_r_f = 1.0*np.sqrt(E/Fy)\n",
    "\n",
    "lambda_p_w = 3.76*np.sqrt(E/Fy)\n",
    "lambda_r_w = 5.7*np.sqrt(E/Fy)\n",
    "\n",
    "print('limites para patín: ',(lambda_p_f,lambda_r_f))\n",
    "print('limites para alma: ',(lambda_p_w,lambda_r_w))\n",
    "print('Esta sección funcionaría porque es compacta')"
   ]
  },
  {
   "cell_type": "markdown",
   "id": "7075078f-6000-4ff7-a24b-19f9ac510102",
   "metadata": {},
   "source": [
    "### Proponer una sección: W14x99 (no compacta)"
   ]
  },
  {
   "cell_type": "code",
   "execution_count": 4,
   "id": "d50f282a-6c04-4d1a-bd78-266301319176",
   "metadata": {},
   "outputs": [
    {
     "name": "stdout",
     "output_type": "stream",
     "text": [
      "limites para patín:  (9.151611879882145, 24.08318915758459)\n",
      "limites para alma:  (90.55279123251806, 137.27417819823216)\n",
      "Esta sección no es compacta por el patín y requiere otros cálculos\n"
     ]
    }
   ],
   "source": [
    "h_tw = 23.5\n",
    "bf_2tf = 9.35\n",
    "Zx = 173\n",
    "Sx = 157\n",
    "\n",
    "lambda_p_f = 0.38*np.sqrt(E/Fy)\n",
    "lambda_r_f = 1.0*np.sqrt(E/Fy)\n",
    "\n",
    "lambda_p_w = 3.76*np.sqrt(E/Fy)\n",
    "lambda_r_w = 5.7*np.sqrt(E/Fy)\n",
    "\n",
    "print('limites para patín: ',(lambda_p_f,lambda_r_f))\n",
    "print('limites para alma: ',(lambda_p_w,lambda_r_w))\n",
    "print('Esta sección no es compacta por el patín y requiere otros cálculos')"
   ]
  },
  {
   "cell_type": "markdown",
   "id": "e0762281-5a3f-440d-a0cc-53946800a8d1",
   "metadata": {},
   "source": [
    "#### Chequeo del pandeo local del patín"
   ]
  },
  {
   "cell_type": "code",
   "execution_count": 5,
   "id": "153eb25f-3b51-40b5-bf1b-298cda8cf29c",
   "metadata": {},
   "outputs": [
    {
     "name": "stdout",
     "output_type": "stream",
     "text": [
      "El momento resistente es:  7747.273036759762\n"
     ]
    }
   ],
   "source": [
    "Mn = (Zx*Fy - (Zx*Fy - 0.7*Fy*Sx)*((bf_2tf-lambda_p_f)/(lambda_r_f-lambda_p_f)))\n",
    "print('El momento resistente es: ',fi*Mn)"
   ]
  }
 ],
 "metadata": {
  "kernelspec": {
   "display_name": "Python 3 (ipykernel)",
   "language": "python",
   "name": "python3"
  },
  "language_info": {
   "codemirror_mode": {
    "name": "ipython",
    "version": 3
   },
   "file_extension": ".py",
   "mimetype": "text/x-python",
   "name": "python",
   "nbconvert_exporter": "python",
   "pygments_lexer": "ipython3",
   "version": "3.11.7"
  }
 },
 "nbformat": 4,
 "nbformat_minor": 5
}
